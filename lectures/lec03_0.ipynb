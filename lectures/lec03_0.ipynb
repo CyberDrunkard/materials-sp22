{
 "cells": [
  {
   "attachments": {},
   "cell_type": "markdown",
   "id": "cell-lec03_0-0",
   "metadata": {},
   "source": [
    "## Python Arithmetic ##"
   ]
  },
  {
   "cell_type": "code",
   "execution_count": null,
   "id": "cell-lec03_0-1",
   "metadata": {},
   "outputs": [],
   "source": []
  },
  {
   "cell_type": "code",
   "execution_count": null,
   "id": "cell-lec03_0-2",
   "metadata": {},
   "outputs": [],
   "source": []
  },
  {
   "attachments": {},
   "cell_type": "markdown",
   "id": "cell-lec03_0-3",
   "metadata": {},
   "source": [
    "## Names ##"
   ]
  },
  {
   "cell_type": "code",
   "execution_count": null,
   "id": "cell-lec03_0-4",
   "metadata": {},
   "outputs": [],
   "source": []
  },
  {
   "cell_type": "code",
   "execution_count": null,
   "id": "cell-lec03_0-5",
   "metadata": {},
   "outputs": [],
   "source": []
  },
  {
   "attachments": {},
   "cell_type": "markdown",
   "id": "cell-lec03_0-6",
   "metadata": {},
   "source": [
    "### Why Names?"
   ]
  },
  {
   "cell_type": "code",
   "execution_count": 1,
   "id": "cell-lec03_0-7",
   "metadata": {},
   "outputs": [
    {
     "data": {
      "text/plain": [
       "600.0"
      ]
     },
     "execution_count": 1,
     "metadata": {},
     "output_type": "execute_result"
    }
   ],
   "source": [
    "# Option 1\n",
    "40 * 15.00"
   ]
  },
  {
   "cell_type": "code",
   "execution_count": 2,
   "id": "cell-lec03_0-8",
   "metadata": {},
   "outputs": [
    {
     "data": {
      "text/plain": [
       "31200.0"
      ]
     },
     "execution_count": 2,
     "metadata": {},
     "output_type": "execute_result"
    }
   ],
   "source": [
    "40 * 52 * 15.00"
   ]
  },
  {
   "attachments": {},
   "cell_type": "markdown",
   "id": "cell-lec03_0-9",
   "metadata": {},
   "source": [
    "On January 1, 2022, the CA Minimum Wage for Employers with 26 Employees or More increased to $15/hour."
   ]
  },
  {
   "cell_type": "code",
   "execution_count": 3,
   "id": "cell-lec03_0-10",
   "metadata": {},
   "outputs": [],
   "source": [
    "# Option 2\n",
    "ca_hourly_minimum_wage = 15.00\n",
    "hours_per_week = 40\n",
    "weeks_per_year = 52"
   ]
  },
  {
   "cell_type": "code",
   "execution_count": 4,
   "id": "cell-lec03_0-11",
   "metadata": {},
   "outputs": [],
   "source": [
    "hours_per_year = hours_per_week * weeks_per_year"
   ]
  },
  {
   "cell_type": "code",
   "execution_count": 5,
   "id": "cell-lec03_0-12",
   "metadata": {},
   "outputs": [
    {
     "data": {
      "text/plain": [
       "2080"
      ]
     },
     "execution_count": 5,
     "metadata": {},
     "output_type": "execute_result"
    }
   ],
   "source": [
    "hours_per_year"
   ]
  },
  {
   "cell_type": "code",
   "execution_count": 6,
   "id": "cell-lec03_0-13",
   "metadata": {},
   "outputs": [
    {
     "data": {
      "text/plain": [
       "600.0"
      ]
     },
     "execution_count": 6,
     "metadata": {},
     "output_type": "execute_result"
    }
   ],
   "source": [
    "weekly_wages = hours_per_week * ca_hourly_minimum_wage\n",
    "weekly_wages"
   ]
  },
  {
   "cell_type": "code",
   "execution_count": 7,
   "id": "cell-lec03_0-14",
   "metadata": {},
   "outputs": [
    {
     "data": {
      "text/plain": [
       "31200.0"
      ]
     },
     "execution_count": 7,
     "metadata": {},
     "output_type": "execute_result"
    }
   ],
   "source": [
    "yearly_wages = hours_per_year * ca_hourly_minimum_wage\n",
    "yearly_wages"
   ]
  },
  {
   "attachments": {},
   "cell_type": "markdown",
   "id": "cell-lec03_0-15",
   "metadata": {},
   "source": [
    "## Functions and Call Expressions"
   ]
  },
  {
   "cell_type": "code",
   "execution_count": null,
   "id": "cell-lec03_0-16",
   "metadata": {},
   "outputs": [],
   "source": []
  },
  {
   "cell_type": "code",
   "execution_count": null,
   "id": "cell-lec03_0-17",
   "metadata": {},
   "outputs": [],
   "source": []
  },
  {
   "cell_type": "code",
   "execution_count": 8,
   "id": "cell-lec03_0-18",
   "metadata": {},
   "outputs": [
    {
     "data": {
      "text/plain": [
       "5"
      ]
     },
     "execution_count": 8,
     "metadata": {},
     "output_type": "execute_result"
    }
   ],
   "source": [
    "day_temp = 52\n",
    "night_temp = 47\n",
    "abs(night_temp - day_temp)"
   ]
  },
  {
   "cell_type": "code",
   "execution_count": null,
   "id": "cell-lec03_0-19",
   "metadata": {},
   "outputs": [],
   "source": []
  },
  {
   "cell_type": "code",
   "execution_count": null,
   "id": "cell-lec03_0-20",
   "metadata": {},
   "outputs": [],
   "source": []
  },
  {
   "attachments": {},
   "cell_type": "markdown",
   "id": "cell-lec03_0-21",
   "metadata": {},
   "source": [
    "## Tables ##"
   ]
  },
  {
   "cell_type": "code",
   "execution_count": 9,
   "id": "cell-lec03_0-22",
   "metadata": {},
   "outputs": [],
   "source": [
    "from datascience import *"
   ]
  },
  {
   "cell_type": "code",
   "execution_count": 10,
   "id": "cell-lec03_0-23",
   "metadata": {},
   "outputs": [
    {
     "data": {
      "text/html": [
       "<table border=\"1\" class=\"dataframe\">\n",
       "    <thead>\n",
       "        <tr>\n",
       "            <th>Flavor</th> <th>Color</th> <th>Price</th>\n",
       "        </tr>\n",
       "    </thead>\n",
       "    <tbody>\n",
       "        <tr>\n",
       "            <td>strawberry</td> <td>pink       </td> <td>3.55 </td>\n",
       "        </tr>\n",
       "        <tr>\n",
       "            <td>chocolate </td> <td>light brown</td> <td>4.75 </td>\n",
       "        </tr>\n",
       "        <tr>\n",
       "            <td>chocolate </td> <td>dark brown </td> <td>5.25 </td>\n",
       "        </tr>\n",
       "        <tr>\n",
       "            <td>strawberry</td> <td>pink       </td> <td>5.25 </td>\n",
       "        </tr>\n",
       "        <tr>\n",
       "            <td>chocolate </td> <td>dark brown </td> <td>5.25 </td>\n",
       "        </tr>\n",
       "        <tr>\n",
       "            <td>bubblegum </td> <td>pink       </td> <td>4.75 </td>\n",
       "        </tr>\n",
       "    </tbody>\n",
       "</table>"
      ],
      "text/plain": [
       "Flavor     | Color       | Price\n",
       "strawberry | pink        | 3.55\n",
       "chocolate  | light brown | 4.75\n",
       "chocolate  | dark brown  | 5.25\n",
       "strawberry | pink        | 5.25\n",
       "chocolate  | dark brown  | 5.25\n",
       "bubblegum  | pink        | 4.75"
      ]
     },
     "execution_count": 10,
     "metadata": {},
     "output_type": "execute_result"
    }
   ],
   "source": [
    "cones = Table.read_table('cones.csv')\n",
    "cones"
   ]
  },
  {
   "cell_type": "code",
   "execution_count": 11,
   "id": "cell-lec03_0-24",
   "metadata": {},
   "outputs": [
    {
     "name": "stdout",
     "output_type": "stream",
     "text": [
      "\u001b[0;31mSignature:\u001b[0m \u001b[0mcones\u001b[0m\u001b[0;34m.\u001b[0m\u001b[0msort\u001b[0m\u001b[0;34m(\u001b[0m\u001b[0mcolumn_or_label\u001b[0m\u001b[0;34m,\u001b[0m \u001b[0mdescending\u001b[0m\u001b[0;34m=\u001b[0m\u001b[0;32mFalse\u001b[0m\u001b[0;34m,\u001b[0m \u001b[0mdistinct\u001b[0m\u001b[0;34m=\u001b[0m\u001b[0;32mFalse\u001b[0m\u001b[0;34m)\u001b[0m\u001b[0;34m\u001b[0m\u001b[0;34m\u001b[0m\u001b[0m\n",
      "\u001b[0;31mDocstring:\u001b[0m\n",
      "Return a Table of rows sorted according to the values in a column.\n",
      "\n",
      "Args:\n",
      "    ``column_or_label``: the column whose values are used for sorting.\n",
      "\n",
      "    ``descending``: if True, sorting will be in descending, rather than\n",
      "        ascending order.\n",
      "\n",
      "    ``distinct``: if True, repeated values in ``column_or_label`` will\n",
      "        be omitted.\n",
      "\n",
      "Returns:\n",
      "    An instance of ``Table`` containing rows sorted based on the values\n",
      "    in ``column_or_label``.\n",
      "\n",
      ">>> marbles = Table().with_columns(\n",
      "...    \"Color\", make_array(\"Red\", \"Green\", \"Blue\", \"Red\", \"Green\", \"Green\"),\n",
      "...    \"Shape\", make_array(\"Round\", \"Rectangular\", \"Rectangular\", \"Round\", \"Rectangular\", \"Round\"),\n",
      "...    \"Amount\", make_array(4, 6, 12, 7, 9, 2),\n",
      "...    \"Price\", make_array(1.30, 1.30, 2.00, 1.75, 1.40, 1.00))\n",
      ">>> marbles\n",
      "Color | Shape       | Amount | Price\n",
      "Red   | Round       | 4      | 1.3\n",
      "Green | Rectangular | 6      | 1.3\n",
      "Blue  | Rectangular | 12     | 2\n",
      "Red   | Round       | 7      | 1.75\n",
      "Green | Rectangular | 9      | 1.4\n",
      "Green | Round       | 2      | 1\n",
      ">>> marbles.sort(\"Amount\")\n",
      "Color | Shape       | Amount | Price\n",
      "Green | Round       | 2      | 1\n",
      "Red   | Round       | 4      | 1.3\n",
      "Green | Rectangular | 6      | 1.3\n",
      "Red   | Round       | 7      | 1.75\n",
      "Green | Rectangular | 9      | 1.4\n",
      "Blue  | Rectangular | 12     | 2\n",
      ">>> marbles.sort(\"Amount\", descending = True)\n",
      "Color | Shape       | Amount | Price\n",
      "Blue  | Rectangular | 12     | 2\n",
      "Green | Rectangular | 9      | 1.4\n",
      "Red   | Round       | 7      | 1.75\n",
      "Green | Rectangular | 6      | 1.3\n",
      "Red   | Round       | 4      | 1.3\n",
      "Green | Round       | 2      | 1\n",
      ">>> marbles.sort(3) # the Price column\n",
      "Color | Shape       | Amount | Price\n",
      "Green | Round       | 2      | 1\n",
      "Red   | Round       | 4      | 1.3\n",
      "Green | Rectangular | 6      | 1.3\n",
      "Green | Rectangular | 9      | 1.4\n",
      "Red   | Round       | 7      | 1.75\n",
      "Blue  | Rectangular | 12     | 2\n",
      ">>> marbles.sort(3, distinct = True)\n",
      "Color | Shape       | Amount | Price\n",
      "Green | Round       | 2      | 1\n",
      "Red   | Round       | 4      | 1.3\n",
      "Green | Rectangular | 9      | 1.4\n",
      "Red   | Round       | 7      | 1.75\n",
      "Blue  | Rectangular | 12     | 2\n",
      "\u001b[0;31mFile:\u001b[0m      /usr/local/python/3.12.1/lib/python3.12/site-packages/datascience/tables.py\n",
      "\u001b[0;31mType:\u001b[0m      method"
     ]
    }
   ],
   "source": [
    "cones.sort?"
   ]
  },
  {
   "cell_type": "code",
   "execution_count": null,
   "id": "cell-lec03_0-25",
   "metadata": {},
   "outputs": [],
   "source": []
  },
  {
   "attachments": {},
   "cell_type": "markdown",
   "id": "cell-lec03_0-26",
   "metadata": {},
   "source": [
    "### A more interesting table"
   ]
  },
  {
   "cell_type": "code",
   "execution_count": 12,
   "id": "cell-lec03_0-27",
   "metadata": {},
   "outputs": [
    {
     "data": {
      "text/html": [
       "<table border=\"1\" class=\"dataframe\">\n",
       "    <thead>\n",
       "        <tr>\n",
       "            <th>rank</th> <th>name</th> <th>position</th> <th>team</th> <th>salary</th> <th>season</th>\n",
       "        </tr>\n",
       "    </thead>\n",
       "    <tbody>\n",
       "        <tr>\n",
       "            <td>1   </td> <td>Shaquille O'Neal</td> <td>C       </td> <td>Los Angeles Lakers    </td> <td>17142000</td> <td>2000  </td>\n",
       "        </tr>\n",
       "        <tr>\n",
       "            <td>2   </td> <td>Kevin Garnett   </td> <td>PF      </td> <td>Minnesota Timberwolves</td> <td>16806000</td> <td>2000  </td>\n",
       "        </tr>\n",
       "        <tr>\n",
       "            <td>3   </td> <td>Alonzo Mourning </td> <td>C       </td> <td>Miami Heat            </td> <td>15004000</td> <td>2000  </td>\n",
       "        </tr>\n",
       "        <tr>\n",
       "            <td>4   </td> <td>Juwan Howard    </td> <td>PF      </td> <td>Washington Wizards    </td> <td>15000000</td> <td>2000  </td>\n",
       "        </tr>\n",
       "        <tr>\n",
       "            <td>5   </td> <td>Scottie Pippen  </td> <td>SF      </td> <td>Portland Trail Blazers</td> <td>14795000</td> <td>2000  </td>\n",
       "        </tr>\n",
       "        <tr>\n",
       "            <td>6   </td> <td>Karl Malone     </td> <td>PF      </td> <td>Utah Jazz             </td> <td>14000000</td> <td>2000  </td>\n",
       "        </tr>\n",
       "        <tr>\n",
       "            <td>7   </td> <td>Larry Johnson   </td> <td>F       </td> <td>New York Knicks       </td> <td>11910000</td> <td>2000  </td>\n",
       "        </tr>\n",
       "        <tr>\n",
       "            <td>8   </td> <td>Gary Payton     </td> <td>PG      </td> <td>Seattle SuperSonics   </td> <td>11020000</td> <td>2000  </td>\n",
       "        </tr>\n",
       "        <tr>\n",
       "            <td>9   </td> <td>Rasheed Wallace </td> <td>PF      </td> <td>Portland Trail Blazers</td> <td>10800000</td> <td>2000  </td>\n",
       "        </tr>\n",
       "        <tr>\n",
       "            <td>10  </td> <td>Shawn Kemp      </td> <td>C       </td> <td>Cleveland Cavaliers   </td> <td>10780000</td> <td>2000  </td>\n",
       "        </tr>\n",
       "    </tbody>\n",
       "</table>\n",
       "<p>... (9446 rows omitted)</p>"
      ],
      "text/plain": [
       "rank | name             | position | team                   | salary   | season\n",
       "1    | Shaquille O'Neal | C        | Los Angeles Lakers     | 17142000 | 2000\n",
       "2    | Kevin Garnett    | PF       | Minnesota Timberwolves | 16806000 | 2000\n",
       "3    | Alonzo Mourning  | C        | Miami Heat             | 15004000 | 2000\n",
       "4    | Juwan Howard     | PF       | Washington Wizards     | 15000000 | 2000\n",
       "5    | Scottie Pippen   | SF       | Portland Trail Blazers | 14795000 | 2000\n",
       "6    | Karl Malone      | PF       | Utah Jazz              | 14000000 | 2000\n",
       "7    | Larry Johnson    | F        | New York Knicks        | 11910000 | 2000\n",
       "8    | Gary Payton      | PG       | Seattle SuperSonics    | 11020000 | 2000\n",
       "9    | Rasheed Wallace  | PF       | Portland Trail Blazers | 10800000 | 2000\n",
       "10   | Shawn Kemp       | C        | Cleveland Cavaliers    | 10780000 | 2000\n",
       "... (9446 rows omitted)"
      ]
     },
     "execution_count": 12,
     "metadata": {},
     "output_type": "execute_result"
    }
   ],
   "source": [
    "# From https://github.com/erikgregorywebb/datasets/blob/master/nba-salaries.csv\n",
    "nba = Table.read_table('nba_salaries.csv')\n",
    "nba"
   ]
  },
  {
   "attachments": {},
   "cell_type": "markdown",
   "id": "cell-lec03_0-28",
   "metadata": {},
   "source": [
    "**Discussion question**: Create a table of just the point guards in the 2020 season?"
   ]
  },
  {
   "cell_type": "code",
   "execution_count": 16,
   "id": "cell-lec03_0-29",
   "metadata": {},
   "outputs": [],
   "source": [
    "nba_pg = nba.where('position','PG')\n",
    "nba_pg_2020 = nba_pg.where('season',2020)"
   ]
  },
  {
   "cell_type": "code",
   "execution_count": 17,
   "id": "cell-lec03_0-30",
   "metadata": {},
   "outputs": [
    {
     "data": {
      "text/html": [
       "<table border=\"1\" class=\"dataframe\">\n",
       "    <thead>\n",
       "        <tr>\n",
       "            <th>rank</th> <th>name</th> <th>position</th> <th>team</th> <th>salary</th> <th>season</th>\n",
       "        </tr>\n",
       "    </thead>\n",
       "    <tbody>\n",
       "        <tr>\n",
       "            <td>1   </td> <td>Stephen Curry          </td> <td>PG      </td> <td>Golden State Warriors </td> <td>40231758</td> <td>2020  </td>\n",
       "        </tr>\n",
       "        <tr>\n",
       "            <td>2   </td> <td>Chris Paul             </td> <td>PG      </td> <td>Oklahoma City Thunder </td> <td>38506482</td> <td>2020  </td>\n",
       "        </tr>\n",
       "        <tr>\n",
       "            <td>3   </td> <td>Russell Westbrook      </td> <td>PG      </td> <td>Houston Rockets       </td> <td>38506482</td> <td>2020  </td>\n",
       "        </tr>\n",
       "        <tr>\n",
       "            <td>4   </td> <td>John Wall              </td> <td>PG      </td> <td>Washington Wizards    </td> <td>38199000</td> <td>2020  </td>\n",
       "        </tr>\n",
       "        <tr>\n",
       "            <td>8   </td> <td>Kyle Lowry             </td> <td>PG      </td> <td>Toronto Raptors       </td> <td>34996296</td> <td>2020  </td>\n",
       "        </tr>\n",
       "        <tr>\n",
       "            <td>14  </td> <td>Kemba Walker           </td> <td>PG      </td> <td>Boston Celtics        </td> <td>32742000</td> <td>2020  </td>\n",
       "        </tr>\n",
       "        <tr>\n",
       "            <td>16  </td> <td>Mike Conley            </td> <td>PG      </td> <td>Utah Jazz             </td> <td>32511624</td> <td>2020  </td>\n",
       "        </tr>\n",
       "        <tr>\n",
       "            <td>17  </td> <td>Kyrie Irving           </td> <td>PG      </td> <td>Brooklyn Nets         </td> <td>31742000</td> <td>2020  </td>\n",
       "        </tr>\n",
       "        <tr>\n",
       "            <td>21  </td> <td>Damian Lillard         </td> <td>PG      </td> <td>Portland Trail Blazers</td> <td>29802321</td> <td>2020  </td>\n",
       "        </tr>\n",
       "        <tr>\n",
       "            <td>52  </td> <td>Malcolm Brogdon        </td> <td>PG      </td> <td>Indiana Pacers        </td> <td>20000000</td> <td>2020  </td>\n",
       "        </tr>\n",
       "        <tr>\n",
       "            <td>53  </td> <td>Terry Rozier           </td> <td>PG      </td> <td>Charlotte Hornets     </td> <td>19894737</td> <td>2020  </td>\n",
       "        </tr>\n",
       "        <tr>\n",
       "            <td>55  </td> <td>Zach LaVine            </td> <td>PG      </td> <td>Chicago Bulls         </td> <td>19500000</td> <td>2020  </td>\n",
       "        </tr>\n",
       "        <tr>\n",
       "            <td>57  </td> <td>Goran Dragic           </td> <td>PG      </td> <td>Miami Heat            </td> <td>19217900</td> <td>2020  </td>\n",
       "        </tr>\n",
       "        <tr>\n",
       "            <td>58  </td> <td>Jeff Teague            </td> <td>PG      </td> <td>Minnesota Timberwolves</td> <td>19000000</td> <td>2020  </td>\n",
       "        </tr>\n",
       "        <tr>\n",
       "            <td>73  </td> <td>Ricky Rubio            </td> <td>PG      </td> <td>Phoenix Suns          </td> <td>16200000</td> <td>2020  </td>\n",
       "        </tr>\n",
       "        <tr>\n",
       "            <td>76  </td> <td>Brandon Knight         </td> <td>PG      </td> <td>Detroit Pistons       </td> <td>15643750</td> <td>2020  </td>\n",
       "        </tr>\n",
       "        <tr>\n",
       "            <td>78  </td> <td>Eric Bledsoe           </td> <td>PG      </td> <td>Milwaukee Bucks       </td> <td>15625000</td> <td>2020  </td>\n",
       "        </tr>\n",
       "        <tr>\n",
       "            <td>79  </td> <td>Dennis Schroder        </td> <td>PG      </td> <td>Oklahoma City Thunder </td> <td>15500000</td> <td>2020  </td>\n",
       "        </tr>\n",
       "        <tr>\n",
       "            <td>93  </td> <td>Jordan Clarkson        </td> <td>PG      </td> <td>Utah Jazz             </td> <td>13437500</td> <td>2020  </td>\n",
       "        </tr>\n",
       "        <tr>\n",
       "            <td>103 </td> <td>Marcus Smart           </td> <td>PG      </td> <td>Boston Celtics        </td> <td>12553571</td> <td>2020  </td>\n",
       "        </tr>\n",
       "        <tr>\n",
       "            <td>107 </td> <td>Patty Mills            </td> <td>PG      </td> <td>San Antonio Spurs     </td> <td>12428571</td> <td>2020  </td>\n",
       "        </tr>\n",
       "        <tr>\n",
       "            <td>109 </td> <td>Patrick Beverley       </td> <td>PG      </td> <td>LA Clippers           </td> <td>12345680</td> <td>2020  </td>\n",
       "        </tr>\n",
       "        <tr>\n",
       "            <td>112 </td> <td>Cory Joseph            </td> <td>PG      </td> <td>Sacramento Kings      </td> <td>12000000</td> <td>2020  </td>\n",
       "        </tr>\n",
       "        <tr>\n",
       "            <td>122 </td> <td>Spencer Dinwiddie      </td> <td>PG      </td> <td>Brooklyn Nets         </td> <td>10605600</td> <td>2020  </td>\n",
       "        </tr>\n",
       "        <tr>\n",
       "            <td>131 </td> <td>Markelle Fultz         </td> <td>PG      </td> <td>Orlando Magic         </td> <td>9745200 </td> <td>2020  </td>\n",
       "        </tr>\n",
       "        <tr>\n",
       "            <td>133 </td> <td>Matthew Dellavedova    </td> <td>PG      </td> <td>Cleveland Cavaliers   </td> <td>9607500 </td> <td>2020  </td>\n",
       "        </tr>\n",
       "        <tr>\n",
       "            <td>134 </td> <td>Dante Exum             </td> <td>PG      </td> <td>Utah Jazz             </td> <td>9600000 </td> <td>2020  </td>\n",
       "        </tr>\n",
       "        <tr>\n",
       "            <td>136 </td> <td>Delon Wright           </td> <td>PG      </td> <td>Dallas Mavericks      </td> <td>9473684 </td> <td>2020  </td>\n",
       "        </tr>\n",
       "        <tr>\n",
       "            <td>139 </td> <td>Tyus Jones             </td> <td>PG      </td> <td>Memphis Grizzlies     </td> <td>9258000 </td> <td>2020  </td>\n",
       "        </tr>\n",
       "        <tr>\n",
       "            <td>141 </td> <td>George Hill            </td> <td>PG      </td> <td>Milwaukee Bucks       </td> <td>9133907 </td> <td>2020  </td>\n",
       "        </tr>\n",
       "        <tr>\n",
       "            <td>144 </td> <td>Ja Morant              </td> <td>PG      </td> <td>Memphis Grizzlies     </td> <td>8730240 </td> <td>2020  </td>\n",
       "        </tr>\n",
       "        <tr>\n",
       "            <td>145 </td> <td>Lonzo Ball             </td> <td>PG      </td> <td>New Orleans Pelicans  </td> <td>8719320 </td> <td>2020  </td>\n",
       "        </tr>\n",
       "        <tr>\n",
       "            <td>152 </td> <td>Ben Simmons            </td> <td>PG      </td> <td>Philadelphia 76ers    </td> <td>8113930 </td> <td>2020  </td>\n",
       "        </tr>\n",
       "        <tr>\n",
       "            <td>155 </td> <td>Elfrid Payton          </td> <td>PG      </td> <td>New York Knicks       </td> <td>8000000 </td> <td>2020  </td>\n",
       "        </tr>\n",
       "        <tr>\n",
       "            <td>168 </td> <td>Derrick Rose           </td> <td>PG      </td> <td>Detroit Pistons       </td> <td>7317073 </td> <td>2020  </td>\n",
       "        </tr>\n",
       "        <tr>\n",
       "            <td>170 </td> <td>D.J. Augustin          </td> <td>PG      </td> <td>Orlando Magic         </td> <td>7250000 </td> <td>2020  </td>\n",
       "        </tr>\n",
       "        <tr>\n",
       "            <td>182 </td> <td>Darius Garland         </td> <td>PG      </td> <td>Cleveland Cavaliers   </td> <td>6400920 </td> <td>2020  </td>\n",
       "        </tr>\n",
       "        <tr>\n",
       "            <td>183 </td> <td>De'Aaron Fox           </td> <td>PG      </td> <td>Sacramento Kings      </td> <td>6392760 </td> <td>2020  </td>\n",
       "        </tr>\n",
       "        <tr>\n",
       "            <td>185 </td> <td>Trae Young             </td> <td>PG      </td> <td>Atlanta Hawks         </td> <td>6273000 </td> <td>2020  </td>\n",
       "        </tr>\n",
       "        <tr>\n",
       "            <td>187 </td> <td>Ish Smith              </td> <td>PG      </td> <td>Washington Wizards    </td> <td>6000000 </td> <td>2020  </td>\n",
       "        </tr>\n",
       "        <tr>\n",
       "            <td>199 </td> <td>Kris Dunn              </td> <td>PG      </td> <td>Chicago Bulls         </td> <td>5348007 </td> <td>2020  </td>\n",
       "        </tr>\n",
       "        <tr>\n",
       "            <td>200 </td> <td>Coby White             </td> <td>PG      </td> <td>Chicago Bulls         </td> <td>5307120 </td> <td>2020  </td>\n",
       "        </tr>\n",
       "        <tr>\n",
       "            <td>209 </td> <td>Frank Ntilikina        </td> <td>PG      </td> <td>New York Knicks       </td> <td>4855800 </td> <td>2020  </td>\n",
       "        </tr>\n",
       "        <tr>\n",
       "            <td>217 </td> <td>Avery Bradley          </td> <td>PG      </td> <td>Los Angeles Lakers    </td> <td>4767000 </td> <td>2020  </td>\n",
       "        </tr>\n",
       "        <tr>\n",
       "            <td>221 </td> <td>Collin Sexton          </td> <td>PG      </td> <td>Cleveland Cavaliers   </td> <td>4764960 </td> <td>2020  </td>\n",
       "        </tr>\n",
       "        <tr>\n",
       "            <td>224 </td> <td>Dennis Smith Jr.       </td> <td>PG      </td> <td>New York Knicks       </td> <td>4463640 </td> <td>2020  </td>\n",
       "        </tr>\n",
       "        <tr>\n",
       "            <td>225 </td> <td>Jamal Murray           </td> <td>PG      </td> <td>Denver Nuggets        </td> <td>4444746 </td> <td>2020  </td>\n",
       "        </tr>\n",
       "        <tr>\n",
       "            <td>255 </td> <td>T.J. McConnell         </td> <td>PG      </td> <td>Indiana Pacers        </td> <td>3500000 </td> <td>2020  </td>\n",
       "        </tr>\n",
       "        <tr>\n",
       "            <td>267 </td> <td>Yogi Ferrell           </td> <td>PG      </td> <td>Sacramento Kings      </td> <td>3150000 </td> <td>2020  </td>\n",
       "        </tr>\n",
       "        <tr>\n",
       "            <td>270 </td> <td>Quinn Cook             </td> <td>PG      </td> <td>Los Angeles Lakers    </td> <td>3000000 </td> <td>2020  </td>\n",
       "        </tr>\n",
       "        <tr>\n",
       "            <td>271 </td> <td>Ryan Arcidiacono       </td> <td>PG      </td> <td>Chicago Bulls         </td> <td>3000000 </td> <td>2020  </td>\n",
       "        </tr>\n",
       "        <tr>\n",
       "            <td>291 </td> <td>Rajon Rondo            </td> <td>PG      </td> <td>Los Angeles Lakers    </td> <td>2564753 </td> <td>2020  </td>\n",
       "        </tr>\n",
       "        <tr>\n",
       "            <td>307 </td> <td>Aaron Holiday          </td> <td>PG      </td> <td>Indiana Pacers        </td> <td>2329200 </td> <td>2020  </td>\n",
       "        </tr>\n",
       "        <tr>\n",
       "            <td>308 </td> <td>Dejounte Murray        </td> <td>PG      </td> <td>San Antonio Spurs     </td> <td>2321735 </td> <td>2020  </td>\n",
       "        </tr>\n",
       "        <tr>\n",
       "            <td>318 </td> <td>Austin Rivers          </td> <td>PG      </td> <td>Houston Rockets       </td> <td>2147317 </td> <td>2020  </td>\n",
       "        </tr>\n",
       "        <tr>\n",
       "            <td>326 </td> <td>Edmond Sumner          </td> <td>PG      </td> <td>Indiana Pacers        </td> <td>2000000 </td> <td>2020  </td>\n",
       "        </tr>\n",
       "        <tr>\n",
       "            <td>335 </td> <td>Derrick White          </td> <td>PG      </td> <td>San Antonio Spurs     </td> <td>1948080 </td> <td>2020  </td>\n",
       "        </tr>\n",
       "        <tr>\n",
       "            <td>341 </td> <td>Shabazz Napier         </td> <td>PG      </td> <td>Washington Wizards    </td> <td>1845301 </td> <td>2020  </td>\n",
       "        </tr>\n",
       "        <tr>\n",
       "            <td>346 </td> <td>Cameron Payne          </td> <td>PG      </td> <td>Phoenix Suns          </td> <td>1737145 </td> <td>2020  </td>\n",
       "        </tr>\n",
       "        <tr>\n",
       "            <td>363 </td> <td>Emmanuel Mudiay        </td> <td>PG      </td> <td>Utah Jazz             </td> <td>1620564 </td> <td>2020  </td>\n",
       "        </tr>\n",
       "        <tr>\n",
       "            <td>368 </td> <td>Raul Neto              </td> <td>PG      </td> <td>Philadelphia 76ers    </td> <td>1620564 </td> <td>2020  </td>\n",
       "        </tr>\n",
       "        <tr>\n",
       "            <td>371 </td> <td>Michael Carter-Williams</td> <td>PG      </td> <td>Orlando Magic         </td> <td>1620564 </td> <td>2020  </td>\n",
       "        </tr>\n",
       "        <tr>\n",
       "            <td>377 </td> <td>Isaiah Thomas          </td> <td>PG      </td> <td>Washington Wizards    </td> <td>1620564 </td> <td>2020  </td>\n",
       "        </tr>\n",
       "        <tr>\n",
       "            <td>384 </td> <td>Tim Frazier            </td> <td>PG      </td> <td>Detroit Pistons       </td> <td>1620564 </td> <td>2020  </td>\n",
       "        </tr>\n",
       "        <tr>\n",
       "            <td>387 </td> <td>Trey Burke             </td> <td>PG      </td> <td>Philadelphia 76ers    </td> <td>1620564 </td> <td>2020  </td>\n",
       "        </tr>\n",
       "        <tr>\n",
       "            <td>388 </td> <td>J.J. Barea             </td> <td>PG      </td> <td>Dallas Mavericks      </td> <td>1620564 </td> <td>2020  </td>\n",
       "        </tr>\n",
       "        <tr>\n",
       "            <td>391 </td> <td>Shaquille Harrison     </td> <td>PG      </td> <td>Chicago Bulls         </td> <td>1620564 </td> <td>2020  </td>\n",
       "        </tr>\n",
       "        <tr>\n",
       "            <td>399 </td> <td>Frank Jackson          </td> <td>PG      </td> <td>New Orleans Pelicans  </td> <td>1618520 </td> <td>2020  </td>\n",
       "        </tr>\n",
       "        <tr>\n",
       "            <td>406 </td> <td>Monte Morris           </td> <td>PG      </td> <td>Denver Nuggets        </td> <td>1588231 </td> <td>2020  </td>\n",
       "        </tr>\n",
       "        <tr>\n",
       "            <td>420 </td> <td>Nigel Williams-Goss    </td> <td>PG      </td> <td>Utah Jazz             </td> <td>1500000 </td> <td>2020  </td>\n",
       "        </tr>\n",
       "        <tr>\n",
       "            <td>428 </td> <td>Brad Wanamaker         </td> <td>PG      </td> <td>Boston Celtics        </td> <td>1445697 </td> <td>2020  </td>\n",
       "        </tr>\n",
       "        <tr>\n",
       "            <td>430 </td> <td>Devonte' Graham        </td> <td>PG      </td> <td>Charlotte Hornets     </td> <td>1416852 </td> <td>2020  </td>\n",
       "        </tr>\n",
       "        <tr>\n",
       "            <td>438 </td> <td>Jevon Carter           </td> <td>PG      </td> <td>Phoenix Suns          </td> <td>1416852 </td> <td>2020  </td>\n",
       "        </tr>\n",
       "        <tr>\n",
       "            <td>450 </td> <td>Jalen Brunson          </td> <td>PG      </td> <td>Dallas Mavericks      </td> <td>1416852 </td> <td>2020  </td>\n",
       "        </tr>\n",
       "        <tr>\n",
       "            <td>472 </td> <td>Carsen Edwards         </td> <td>PG      </td> <td>Boston Celtics        </td> <td>1228026 </td> <td>2020  </td>\n",
       "        </tr>\n",
       "        <tr>\n",
       "            <td>475 </td> <td>Gary Payton II         </td> <td>PG      </td> <td>Washington Wizards    </td> <td>1052909 </td> <td>2020  </td>\n",
       "        </tr>\n",
       "        <tr>\n",
       "            <td>486 </td> <td>Justin Robinson        </td> <td>PG      </td> <td>Washington Wizards    </td> <td>898310  </td> <td>2020  </td>\n",
       "        </tr>\n",
       "        <tr>\n",
       "            <td>490 </td> <td>Jalen Lecque           </td> <td>PG      </td> <td>Phoenix Suns          </td> <td>898310  </td> <td>2020  </td>\n",
       "        </tr>\n",
       "        <tr>\n",
       "            <td>510 </td> <td>Chris Clemons          </td> <td>PG      </td> <td>Houston Rockets       </td> <td>563347  </td> <td>2020  </td>\n",
       "        </tr>\n",
       "        <tr>\n",
       "            <td>512 </td> <td>Brandon Goodwin        </td> <td>PG      </td> <td>Atlanta Hawks         </td> <td>522738  </td> <td>2020  </td>\n",
       "        </tr>\n",
       "        <tr>\n",
       "            <td>513 </td> <td>Reggie Jackson         </td> <td>PG      </td> <td>LA Clippers           </td> <td>512721  </td> <td>2020  </td>\n",
       "        </tr>\n",
       "        <tr>\n",
       "            <td>522 </td> <td>Ky Bowman              </td> <td>PG      </td> <td>Golden State Warriors </td> <td>350189  </td> <td>2020  </td>\n",
       "        </tr>\n",
       "    </tbody>\n",
       "</table>"
      ],
      "text/plain": [
       "<IPython.core.display.HTML object>"
      ]
     },
     "metadata": {},
     "output_type": "display_data"
    }
   ],
   "source": [
    "nba_pg_2020.show()"
   ]
  }
 ],
 "metadata": {
  "anaconda-cloud": {},
  "kernelspec": {
   "display_name": "Python 3",
   "language": "python",
   "name": "python3"
  },
  "language_info": {
   "codemirror_mode": {
    "name": "ipython",
    "version": 3
   },
   "file_extension": ".py",
   "mimetype": "text/x-python",
   "name": "python",
   "nbconvert_exporter": "python",
   "pygments_lexer": "ipython3",
   "version": "3.12.1"
  }
 },
 "nbformat": 4,
 "nbformat_minor": 5
}
